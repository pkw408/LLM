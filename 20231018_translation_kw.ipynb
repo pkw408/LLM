{
  "nbformat": 4,
  "nbformat_minor": 0,
  "metadata": {
    "colab": {
      "provenance": [],
      "mount_file_id": "1LT9PWEAW1b9_TJKP6CWQozz3KvO9YccS",
      "authorship_tag": "ABX9TyPLPdDoK6bDNx6VuEFka60k",
      "include_colab_link": true
    },
    "kernelspec": {
      "name": "python3",
      "display_name": "Python 3"
    },
    "language_info": {
      "name": "python"
    }
  },
  "cells": [
    {
      "cell_type": "markdown",
      "metadata": {
        "id": "view-in-github",
        "colab_type": "text"
      },
      "source": [
        "<a href=\"https://colab.research.google.com/github/pkw408/LLM/blob/main/20231018_translation_kw.ipynb\" target=\"_parent\"><img src=\"https://colab.research.google.com/assets/colab-badge.svg\" alt=\"Open In Colab\"/></a>"
      ]
    },
    {
      "cell_type": "code",
      "execution_count": 32,
      "metadata": {
        "colab": {
          "base_uri": "https://localhost:8080/"
        },
        "id": "KwqzgNYko5Kb",
        "outputId": "4eaddce2-f75c-43d3-ce7a-e6e2be77f54d"
      },
      "outputs": [
        {
          "output_type": "stream",
          "name": "stdout",
          "text": [
            "Requirement already satisfied: googletrans==3.1.0a0 in /usr/local/lib/python3.10/dist-packages (3.1.0a0)\n",
            "Requirement already satisfied: httpx==0.13.3 in /usr/local/lib/python3.10/dist-packages (from googletrans==3.1.0a0) (0.13.3)\n",
            "Requirement already satisfied: certifi in /usr/local/lib/python3.10/dist-packages (from httpx==0.13.3->googletrans==3.1.0a0) (2023.7.22)\n",
            "Requirement already satisfied: hstspreload in /usr/local/lib/python3.10/dist-packages (from httpx==0.13.3->googletrans==3.1.0a0) (2023.1.1)\n",
            "Requirement already satisfied: sniffio in /usr/local/lib/python3.10/dist-packages (from httpx==0.13.3->googletrans==3.1.0a0) (1.3.0)\n",
            "Requirement already satisfied: chardet==3.* in /usr/local/lib/python3.10/dist-packages (from httpx==0.13.3->googletrans==3.1.0a0) (3.0.4)\n",
            "Requirement already satisfied: idna==2.* in /usr/local/lib/python3.10/dist-packages (from httpx==0.13.3->googletrans==3.1.0a0) (2.10)\n",
            "Requirement already satisfied: rfc3986<2,>=1.3 in /usr/local/lib/python3.10/dist-packages (from httpx==0.13.3->googletrans==3.1.0a0) (1.5.0)\n",
            "Requirement already satisfied: httpcore==0.9.* in /usr/local/lib/python3.10/dist-packages (from httpx==0.13.3->googletrans==3.1.0a0) (0.9.1)\n",
            "Requirement already satisfied: h11<0.10,>=0.8 in /usr/local/lib/python3.10/dist-packages (from httpcore==0.9.*->httpx==0.13.3->googletrans==3.1.0a0) (0.9.0)\n",
            "Requirement already satisfied: h2==3.* in /usr/local/lib/python3.10/dist-packages (from httpcore==0.9.*->httpx==0.13.3->googletrans==3.1.0a0) (3.2.0)\n",
            "Requirement already satisfied: hyperframe<6,>=5.2.0 in /usr/local/lib/python3.10/dist-packages (from h2==3.*->httpcore==0.9.*->httpx==0.13.3->googletrans==3.1.0a0) (5.2.0)\n",
            "Requirement already satisfied: hpack<4,>=3.0 in /usr/local/lib/python3.10/dist-packages (from h2==3.*->httpcore==0.9.*->httpx==0.13.3->googletrans==3.1.0a0) (3.0.0)\n"
          ]
        }
      ],
      "source": [
        "pip install googletrans==3.1.0a0"
      ]
    },
    {
      "cell_type": "code",
      "source": [
        "from googletrans import Translator\n",
        "\n",
        "translator = Translator()\n",
        "result = translator.translate(\"굴착기란 땅을 파거나 깎는 현장에서 사용되는 건설기계. 건설현장을 상징하는 장비로 굴착과 토사 운반은 물론 건물 해체와 지면 정리에도 투입된다.\", dest=\"en\")\n",
        "print(result.text)\n"
      ],
      "metadata": {
        "colab": {
          "base_uri": "https://localhost:8080/"
        },
        "id": "cFrEpiGKpY5U",
        "outputId": "014a3707-fd13-42da-e0fc-b5cb604136be"
      },
      "execution_count": 33,
      "outputs": [
        {
          "output_type": "stream",
          "name": "stdout",
          "text": [
            "An excavator is a construction machine used at a site to dig or cut the ground. This equipment symbolizes construction sites and is used not only for excavation and transport of soil, but also for dismantling buildings and clearing the ground.\n"
          ]
        }
      ]
    },
    {
      "cell_type": "markdown",
      "source": [],
      "metadata": {
        "id": "ybta-dd1ztWK"
      }
    },
    {
      "cell_type": "code",
      "source": [
        "pip install python-pptx"
      ],
      "metadata": {
        "colab": {
          "base_uri": "https://localhost:8080/"
        },
        "id": "JbZcxDYxs_bU",
        "outputId": "e0609728-9b7a-48bb-928c-585baec94398"
      },
      "execution_count": 34,
      "outputs": [
        {
          "output_type": "stream",
          "name": "stdout",
          "text": [
            "Requirement already satisfied: python-pptx in /usr/local/lib/python3.10/dist-packages (0.6.22)\n",
            "Requirement already satisfied: lxml>=3.1.0 in /usr/local/lib/python3.10/dist-packages (from python-pptx) (4.9.3)\n",
            "Requirement already satisfied: Pillow<=9.5.0,>=3.3.2 in /usr/local/lib/python3.10/dist-packages (from python-pptx) (9.4.0)\n",
            "Requirement already satisfied: XlsxWriter>=0.5.7 in /usr/local/lib/python3.10/dist-packages (from python-pptx) (3.1.8)\n"
          ]
        }
      ]
    },
    {
      "cell_type": "code",
      "source": [
        "from pptx import Presentation\n",
        "\n",
        "# pptx의 text를 속성 그대로 살려두고 글자만 변경\n",
        "def replace_paragraph_text_retaining_initial_formatting(paragraph, new_text):\n",
        "    if len(paragraph.runs) == 0:\n",
        "        return\n",
        "    p = paragraph._p\n",
        "    for idx, run in enumerate(paragraph.runs):\n",
        "        if idx == 0:\n",
        "            continue\n",
        "        p.remove(run._r)\n",
        "    paragraph.runs[0].text = new_text\n",
        "\n",
        "def translate(shape, src_lang, tgt_lang):\n",
        "    for paragraph in shape.text_frame.paragraphs:\n",
        "        # 문자열 예외 처리 공백..\n",
        "        if paragraph.text.isspace():\n",
        "            continue\n",
        "        if paragraph.text == '':\n",
        "            continue\n",
        "        # 문자열이 번역할 언어인지 확인\n",
        "        translator = Translator() # translator 선언\n",
        "        # print(translator.detect(paragraph.text))\n",
        "        # print(src_lang)\n",
        "        if translator.detect(paragraph.text).lang == src_lang:\n",
        "            # tgt_lang 언어로 번역\n",
        "            new_text = translator.translate(paragraph.text, src = src_lang, dest = tgt_lang)\n",
        "\n",
        "            print(new_text)\n",
        "            if new_text == None:\n",
        "                return False\n",
        "            # 문자열 표시\n",
        "            print('src text :' + paragraph.text + \", target text : \" + new_text.text)\n",
        "            # pptx 해당 문자열 변경\n",
        "            replace_paragraph_text_retaining_initial_formatting(paragraph, new_text.text)\n",
        "    # 문제없이 번역되었다면 True 리턴\n",
        "    return True\n",
        "\n",
        "# 테이블 안에 있는 문자열 번역\n",
        "def table_func(shape, src_lang, tgt_lang):\n",
        "    table = shape.table\n",
        "    # 셀단위로 체크\n",
        "    for cell in table.iter_cells():\n",
        "        if translate(cell, src_lang, tgt_lang) is False:\n",
        "            return False\n",
        "    return True\n",
        "\n",
        "# 텍스트 상자 문자열 번역\n",
        "def text_func(shape, src_lang, tgt_lang):\n",
        "    return translate(shape, src_lang, tgt_lang)\n",
        "\n",
        "def run(src_file, tgt_file, src_lang, tgt_lang):\n",
        "    # pptx 불러오기\n",
        "    prs = Presentation(src_file)\n",
        "    # 슬라이드 단위로 루프\n",
        "    for slide in prs.slides:\n",
        "        # 슬라이드에서 각 객체(모양?) 단위로 루프\n",
        "        for shape in slide.shapes:\n",
        "            # 객체가 테이블이면\n",
        "            if shape.has_table:\n",
        "                # 테이블 번역 함수 호출\n",
        "                if table_func(shape, src_lang, tgt_lang) is False:\n",
        "                    prs.save(tgt_file)\n",
        "                    return False\n",
        "            # 텍스트 상자면\n",
        "            if shape.has_text_frame:\n",
        "                # 텍스트 번역 함수 호출\n",
        "                if text_func(shape, src_lang, tgt_lang) is False:\n",
        "                    prs.save(tgt_file)\n",
        "                    return False\n",
        "    # 끝까지 문제없이 번역되었다면 저장하고 리턴\n",
        "    prs.save(tgt_file)\n",
        "    return True"
      ],
      "metadata": {
        "id": "9RZpBbb24YaA"
      },
      "execution_count": 51,
      "outputs": []
    },
    {
      "cell_type": "code",
      "source": [
        "if __name__ == \"__main__\":\n",
        "    src_file = './drive/MyDrive/연구분야(대학원).pptx' # 번역할 pptx파일\n",
        "    tgt_file = './drive/MyDrive/translated.pptx' # 번역되어 저장할 pptx 파일\n",
        "    src_lang = 'ko' # 번역할 언어\n",
        "    tgt_lang = 'en' # 번역을 요청할 언어\n",
        "\n",
        "    # src_lang = 'en' # 번역할 언어\n",
        "    # tgt_lang = 'ko' # 번역을 요청할 언어\n",
        "\n",
        "    # 번역 시작\n",
        "    run(src_file, tgt_file, src_lang, tgt_lang)"
      ],
      "metadata": {
        "colab": {
          "base_uri": "https://localhost:8080/"
        },
        "id": "HKLlLH1L5AAW",
        "outputId": "9fee8efc-04bd-41ac-fda2-ae5c73456143"
      },
      "execution_count": 52,
      "outputs": [
        {
          "output_type": "stream",
          "name": "stdout",
          "text": [
            "Translated(src=ko, dest=en, text=Research content, pronunciation=None, extra_data=\"{'translat...\")\n",
            "src text :연구 내용, target text : Research content\n",
            "Translated(src=ko, dest=en, text=01. Medical, pronunciation=None, extra_data=\"{'translat...\")\n",
            "src text :01. 의료, target text : 01. Medical\n",
            "Translated(src=ko, dest=en, text=02. Security, pronunciation=None, extra_data=\"{'translat...\")\n",
            "src text :02. 보안, target text : 02. Security\n",
            "Translated(src=ko, dest=en, text=03. Video abnormality detection, pronunciation=None, extra_data=\"{'translat...\")\n",
            "src text :03. 비디오 이상탐지, target text : 03. Video abnormality detection\n",
            "Translated(src=ko, dest=en, text=04. Manufacturing, pronunciation=None, extra_data=\"{'translat...\")\n",
            "src text :04. 제조, target text : 04. Manufacturing\n",
            "Translated(src=ko, dest=en, text=05. Graph, pronunciation=None, extra_data=\"{'translat...\")\n",
            "src text :05. 그래프 , target text : 05. Graph\n",
            "Translated(src=ko, dest=en, text=Development of artificial intelligence model for gallbladder cancer diagnosis, pronunciation=None, extra_data=\"{'translat...\")\n",
            "src text :담낭암 진단 인공지능 모델 개발, target text : Development of artificial intelligence model for gallbladder cancer diagnosis\n",
            "Translated(src=ko, dest=en, text=Development of an artificial intelligence model for autism detection, pronunciation=None, extra_data=\"{'translat...\")\n",
            "src text :자폐증 탐지를 위한 인공지능 모델 개발, target text : Development of an artificial intelligence model for autism detection\n",
            "Translated(src=ko, dest=en, text=Development of neuro-symbolic CCTV environment abnormality detection service, pronunciation=None, extra_data=\"{'translat...\")\n",
            "src text :뉴로-심볼릭 CCTV 환경 이상 탐지 서비스 개발, target text : Development of neuro-symbolic CCTV environment abnormality detection service\n",
            "Translated(src=ko, dest=en, text=Development of lifelog detailed pattern discovery and explanation technology, pronunciation=None, extra_data=\"{'translat...\")\n",
            "src text :라이프로그 상세 패턴 발견 및 설명 기술 개발, target text : Development of lifelog detailed pattern discovery and explanation technology\n",
            "Translated(src=ko, dest=en, text=Development of gallbladder cancer detection model using MRI medical images, pronunciation=None, extra_data=\"{'translat...\")\n",
            "src text :MRI 의료 영상을 이용한 담낭암 탐지 모델 개발, target text : Development of gallbladder cancer detection model using MRI medical images\n",
            "Translated(src=ko, dest=en, text=Developed a segmentation tool for detected gallbladder cancer, pronunciation=None, extra_data=\"{'translat...\")\n",
            "src text :탐지된 담낭암 segmentation tool 개발, target text : Developed a segmentation tool for detected gallbladder cancer\n",
            "Translated(src=ko, dest=en, text=Medical domain knowledge collection and analysis for autism detection, pronunciation=None, extra_data=\"{'translat...\")\n",
            "src text :자폐증 탐지를 위한 의료 도메인 지식 수집 및 분석, target text : Medical domain knowledge collection and analysis for autism detection\n",
            "Translated(src=ko, dest=en, text=Development of artificial intelligence model and visualization service using fMRI, pronunciation=None, extra_data=\"{'translat...\")\n",
            "src text :fMRI를 이용한 인공지능 모델 개발 및 시각화 서비스 개발 , target text : Development of artificial intelligence model and visualization service using fMRI\n",
            "Translated(src=ko, dest=en, text=Graph structuring using lifelog sensor, pronunciation=None, extra_data=\"{'translat...\")\n",
            "src text :라이프로그 센서를 이용한 그래프 구조화, target text : Graph structuring using lifelog sensor\n",
            "Translated(src=ko, dest=en, text=To discover detailed user patterns, pronunciation=None, extra_data=\"{'translat...\")\n",
            "src text :사용자 상세 패턴 발견을 위한 , target text : To discover detailed user patterns\n",
            "Translated(src=ko, dest=en, text=Develop summarization and retrieval techniques to describe detailed patterns, pronunciation=None, extra_data=\"{'translat...\")\n",
            "src text :상세 패턴을 설명하기 위한 요약 및 검색 기술 개발, target text : Develop summarization and retrieval techniques to describe detailed patterns\n",
            "Translated(src=ko, dest=en, text=Development of artificial intelligence model for detecting malicious attacks, pronunciation=None, extra_data=\"{'translat...\")\n",
            "src text :악성 공격 탐지를 위한 인공지능 모델 개발, target text : Development of artificial intelligence model for detecting malicious attacks\n",
            "Translated(src=ko, dest=en, text=Gather and process security-related expert domain knowledge, pronunciation=None, extra_data=\"{'translat...\")\n",
            "src text :보안 관련 전문가 도메인 지식 수집 및 가공, target text : Gather and process security-related expert domain knowledge\n",
            "Translated(src=ko, dest=en, text=Development of artificial intelligence model for detecting malicious attacks, pronunciation=None, extra_data=\"{'translat...\")\n",
            "src text :악성 공격 탐지를 위한 인공지능 모델 개발, target text : Development of artificial intelligence model for detecting malicious attacks\n",
            "Translated(src=ko, dest=en, text=Enhancing models for detecting Trojan horse-type malicious attacks, pronunciation=None, extra_data=\"{'translat...\")\n",
            "src text :트로이 목마 계열의 악성 공격 탐지를 위한 모델 고도화, target text : Enhancing models for detecting Trojan horse-type malicious attacks\n",
            "Translated(src=ko, dest=en, text=CCTV video pre-processing and processing, pronunciation=None, extra_data=\"{'translat...\")\n",
            "src text :CCTV 영상 전처리 및 가공, target text : CCTV video pre-processing and processing\n",
            "Translated(src=ko, dest=en, text=Real-time object detection model development and modularization, pronunciation=None, extra_data=\"{'translat...\")\n",
            "src text :실시간 객체 탐지 모델 개발 및 모듈화, target text : Real-time object detection model development and modularization\n",
            "Translated(src=ko, dest=en, text=Symbolization of detected objects, pronunciation=None, extra_data=\"{'translat...\")\n",
            "src text :탐지된 객체의 심볼화 , target text : Symbolization of detected objects\n",
            "Translated(src=ko, dest=en, text=data format, pronunciation=None, extra_data=\"{'translat...\")\n",
            "src text :데이터 형식, target text : data format\n",
            "Translated(src=ko, dest=en, text=4D MRI imaging, pronunciation=None, extra_data=\"{'translat...\")\n",
            "src text :4D MRI 영상, target text : 4D MRI imaging\n",
            "Translated(src=ko, dest=en, text=4D fMRI imaging, pronunciation=None, extra_data=\"{'translat...\")\n",
            "src text :4D fMRI 영상, target text : 4D fMRI imaging\n",
            "Translated(src=ko, dest=en, text=4D CCTV footage, pronunciation=None, extra_data=\"{'translat...\")\n",
            "src text :4D CCTV 영상, target text : 4D CCTV footage\n",
            "Translated(src=ko, dest=en, text=Assembly malware, pronunciation=None, extra_data=\"{'translat...\")\n",
            "src text :어셈블리 악성코드, target text : Assembly malware\n",
            "Translated(src=ko, dest=en, text=(Image conversion), pronunciation=None, extra_data=\"{'translat...\")\n",
            "src text :(이미지 변환), target text : (Image conversion)\n",
            "Translated(src=ko, dest=en, text=sensor, graph, pronunciation=None, extra_data=\"{'translat...\")\n",
            "src text :센서, 그래프, target text : sensor, graph\n",
            "Translated(src=ko, dest=en, text=Use ROI module to select areas where gallbladder/lesions are likely to be present, pronunciation=None, extra_data=\"{'translat...\")\n",
            "src text :담낭/병변이 있을 법한 영역을 선택해주는 ROI 모듈 사용, target text : Use ROI module to select areas where gallbladder/lesions are likely to be present\n",
            "Translated(src=ko, dest=en, text=Development of gallbladder cancer diagnosis model, pronunciation=None, extra_data=\"{'translat...\")\n",
            "src text :담낭암 진단 모델 개발, target text : Development of gallbladder cancer diagnosis model\n",
            "Translated(src=ko, dest=en, text=Development of gallbladder location visualization service, pronunciation=None, extra_data=\"{'translat...\")\n",
            "src text :담낭의 위치 시각화 서비스 개발, target text : Development of gallbladder location visualization service\n",
            "Translated(src=ko, dest=en, text=[Medical] Gallbladder cancer diagnosis, pronunciation=None, extra_data=\"{'translat...\")\n",
            "src text :  [의료] 담낭암 진단, target text : [Medical] Gallbladder cancer diagnosis\n",
            "Translated(src=ko, dest=en, text=Development of a detection system that considers the correlation between structural variation elements of the brain for each patient and the scan time, pronunciation=None, extra_data=\"{'translat...\")\n",
            "src text :환자별 뇌의 구조적 변산 요소와 스캔시간 동안의 상관관계를 고려한 탐지 시스템 개발 , target text : Development of a detection system that considers the correlation between structural variation elements of the brain for each patient and the scan time\n",
            "Translated(src=ko, dest=en, text=Development of an autism detection system considering dynamic connectivity between the superior temporal sulcus and visual areas, pronunciation=None, extra_data=\"{'translat...\")\n",
            "src text :상측두구와 시각 영역 간의 동적 연결성을 고려한 자폐증 탐지 시스템  개발, target text : Development of an autism detection system considering dynamic connectivity between the superior temporal sulcus and visual areas\n",
            "Translated(src=ko, dest=en, text=[Medical] Autism detection, pronunciation=None, extra_data=\"{'translat...\")\n",
            "src text :  [의료] 자폐증 탐지, target text : [Medical] Autism detection\n",
            "Translated(src=ko, dest=en, text=Phishing URL classification combining knowledge collected from 12 security experts with deep learning, pronunciation=None, extra_data=\"{'translat...\")\n",
            "src text :12개의 보안 전문가로 부터 수집된 지식을 딥러닝과 결합한 피싱 URL 분류, target text : Phishing URL classification combining knowledge collected from 12 security experts with deep learning\n",
            "Translated(src=ko, dest=en, text=Explore the optimized combination of deep learning (neural) and 12 knowledge (symbols) through evolutionary calculation-based combination., pronunciation=None, extra_data=\"{'translat...\")\n",
            "src text :진화연산 기반 결합을 통해 딥러닝(뉴럴)과 12개의 지식(심볼)의 최적화된 조합을 탐색 , target text : Explore the optimized combination of deep learning (neural) and 12 knowledge (symbols) through evolutionary calculation-based combination.\n",
            "Translated(src=ko, dest=en, text=[Security] Phishing URL classification, pronunciation=None, extra_data=\"{'translat...\")\n",
            "src text :  [보안] 피싱 URL 분류, target text : [Security] Phishing URL classification\n",
            "Translated(src=ko, dest=en, text=ViT is applied to solve the shortcomings of CNN's translation invariance and locality in byte code classification problems., pronunciation=None, extra_data=\"{'translat...\")\n",
            "src text :바이트 코드 분류 문제에서 가지는 CNN 의 Translation invariance와 Locality의 단점을 해결하고자 ViT적용 , target text : ViT is applied to solve the shortcomings of CNN's translation invariance and locality in byte code classification problems.\n",
            "Translated(src=ko, dest=en, text=Due to the similar structural characteristics of the Trojan horse family, the location of local features and the relationship information between them are utilized., pronunciation=None, extra_data=\"{'translat...\")\n",
            "src text :트로이 목마 계열의 유사한 구조적 특징으로 인해 로컬 특징의 위치와 그들 간의 관계성 정보 활용, target text : Due to the similar structural characteristics of the Trojan horse family, the location of local features and the relationship information between them are utilized.\n",
            "Translated(src=ko, dest=en, text=[Security] Malicious bytecode detection (1), pronunciation=None, extra_data=\"{'translat...\")\n",
            "src text :  [보안] 악성 바이트 코드 탐지 (1) , target text : [Security] Malicious bytecode detection (1)\n",
            "Translated(src=ko, dest=en, text=Separation of tangled representations in latent space to overcome classification limitations due to similar structural features of the Trojan horse family., pronunciation=None, extra_data=\"{'translat...\")\n",
            "src text :트로이 목마 계열의 유사한 구조적 특징으로 인한 분류 한계를 극복하기 위한 잠재 공간상의 얽힌 표현을 분리, target text : Separation of tangled representations in latent space to overcome classification limitations due to similar structural features of the Trojan horse family.\n",
            "Translated(src=ko, dest=en, text=Using triplet-loss, the distance between the same class is reduced and the distance between different classes is expanded., pronunciation=None, extra_data=\"{'translat...\")\n",
            "src text :Triplet-loss 를 사용하여 같은 클래스 간의 거리는 축소, 다른 클래스들 간의 거리는 확장 , target text : Using triplet-loss, the distance between the same class is reduced and the distance between different classes is expanded.\n",
            "Translated(src=ko, dest=en, text=[Security] Malicious bytecode detection (2), pronunciation=None, extra_data=\"{'translat...\")\n",
            "src text :  [보안] 악성 바이트 코드 탐지 (2) , target text : [Security] Malicious bytecode detection (2)\n",
            "Translated(src=ko, dest=en, text=Development of video anomaly detection service in CCTV environment, pronunciation=None, extra_data=\"{'translat...\")\n",
            "src text :CCTV 환경에서의 비디오 이상 탐지 서비스 개발, target text : Development of video anomaly detection service in CCTV environment\n",
            "Translated(src=ko, dest=en, text=Development of a visual question-and-answer system considering the relationship between detected abnormal objects and the content of the questions, pronunciation=None, extra_data=\"{'translat...\")\n",
            "src text :탐지된 이상객체 간의 관계, 질문 내용을 고려한 시각적 질의응답 시스템 개발 , target text : Development of a visual question-and-answer system considering the relationship between detected abnormal objects and the content of the questions\n",
            "Translated(src=ko, dest=en, text=Project execution video, pronunciation=None, extra_data=\"{'translat...\")\n",
            "src text :프로젝트 실행 영상 , target text : Project execution video\n",
            "Translated(src=ko, dest=en, text=or a photo of the report;, pronunciation=None, extra_data=\"{'translat...\")\n",
            "src text :또는 보고서 사진,, target text : or a photo of the report;\n",
            "Translated(src=ko, dest=en, text=Attach execution screen, etc., pronunciation=None, extra_data=\"{'translat...\")\n",
            "src text :실행 화면 등등 첨부, target text : Attach execution screen, etc.\n",
            "Translated(src=ko, dest=en, text=[Anomaly detection] Neuro-symbolic CCTV environment abnormality detection, pronunciation=None, extra_data=\"{'translat...\")\n",
            "src text :  [이상탐지] 뉴로-심볼릭 CCTV 환경 이상 탐지, target text : [Anomaly detection] Neuro-symbolic CCTV environment abnormality detection\n",
            "Translated(src=ko, dest=en, text=Participation in K-Manufacturing Data Analysis Competition, pronunciation=None, extra_data=\"{'translat...\")\n",
            "src text :K-제조 데이터 분석 경진대회 참여 , target text : Participation in K-Manufacturing Data Analysis Competition\n",
            "Translated(src=ko, dest=en, text=By using 25 types of sensors, it is not possible to learn the characteristics between equipment, but only the failure-related characteristics of the equipment (F1-score = 0.9975), pronunciation=None, extra_data=\"{'translat...\")\n",
            "src text :25가지 센서를 활용하여 장비들 간의 특징을 학습하지 못하고, 장비의 고장관련 특징만을 학습 (F1-score  = 0.9975)  , target text : By using 25 types of sensors, it is not possible to learn the characteristics between equipment, but only the failure-related characteristics of the equipment (F1-score = 0.9975)\n",
            "Translated(src=ko, dest=en, text=[Manufacturing] Failure detection of injection molding machine data, pronunciation=None, extra_data=\"{'translat...\")\n",
            "src text :  [제조] 사출성형기 데이터의 고장 탐지, target text : [Manufacturing] Failure detection of injection molding machine data\n",
            "Translated(src=ko, dest=en, text=Effectively/intuitively stores an individual's daily life and builds a lifelog graph for personalized services (search, summary) based on this, pronunciation=None, extra_data=\"{'translat...\")\n",
            "src text :개인의 일상생활을 효과적/직관적으로 저장하고 이를 기반으로 개인화 서비스 (검색, 요약)을 위한 라이프로그 그래프 구축, target text : Effectively/intuitively stores an individual's daily life and builds a lifelog graph for personalized services (search, summary) based on this\n",
            "Translated(src=ko, dest=en, text=Based on data from the National Statistical Office, define location, time, and low-level sensor data with high-level semantics and relationships between them., pronunciation=None, extra_data=\"{'translat...\")\n",
            "src text :통계청 자료를 기반으로 장소, 시간, 저수준 센서 데이터를 상위 수준의 시멘틱과 그들 간의 관계성을 정의, target text : Based on data from the National Statistical Office, define location, time, and low-level sensor data with high-level semantics and relationships between them.\n",
            "Translated(src=ko, dest=en, text=[Graph] Building a semantic network based on user sensors, pronunciation=None, extra_data=\"{'translat...\")\n",
            "src text :  [그래프] 사용자 센서기반 시멘틱 네트워크 구축, target text : [Graph] Building a semantic network based on user sensors\n",
            "Translated(src=ko, dest=en, text=[Graph] Building a semantic network based on user sensors, pronunciation=None, extra_data=\"{'translat...\")\n",
            "src text :  [그래프] 사용자 센서기반 시멘틱 네트워크 구축, target text : [Graph] Building a semantic network based on user sensors\n",
            "Translated(src=ko, dest=en, text=To prevent information loss that occurs when a social network graph with complex and heterogenous characteristics is encoded into one, various local information is encoded through graph partitioning., pronunciation=None, extra_data=\"{'translat...\")\n",
            "src text :복잡하고 heterogenous한 특성을 가진 소셜 네트워크 그래프를 하나로 인코딩 했을 때, 발생하는 정보 손실을 막기 위해 그래프 분할을 통해 다양한 로컬 정보를 인코딩, target text : To prevent information loss that occurs when a social network graph with complex and heterogenous characteristics is encoded into one, various local information is encoded through graph partitioning.\n",
            "Translated(src=ko, dest=en, text=When dividing a graph, discover marginalized communities (groups) based on five graph theories., pronunciation=None, extra_data=\"{'translat...\")\n",
            "src text :그래프 분할 시, 5가지 그래프 이론을 기반으로 소외된 커뮤니티(그룹)를(을) 발견하는 것을 유도 , target text : When dividing a graph, discover marginalized communities (groups) based on five graph theories.\n",
            "Translated(src=ko, dest=en, text=When integrating generated local information and global information, the degree of influence between them is taken into consideration., pronunciation=None, extra_data=\"{'translat...\")\n",
            "src text :생성된 로컬 정보와 글로벌 정보를 통합 시 그들 간의 영향정도를 고려하여 통합, target text : When integrating generated local information and global information, the degree of influence between them is taken into consideration.\n",
            "Translated(src=ko, dest=en, text=[Graph] Development of detailed pattern technology, pronunciation=None, extra_data=\"{'translat...\")\n",
            "src text :  [그래프] 상세패턴 기술 개발, target text : [Graph] Development of detailed pattern technology\n"
          ]
        }
      ]
    },
    {
      "cell_type": "markdown",
      "source": [
        "## 엑셀 문서 번역 (LLM 모델 활용)"
      ],
      "metadata": {
        "id": "_UI9o4P8-cq8"
      }
    },
    {
      "cell_type": "code",
      "source": [
        "!pip install transformers"
      ],
      "metadata": {
        "colab": {
          "base_uri": "https://localhost:8080/"
        },
        "id": "dLPaaodlpho6",
        "outputId": "7e8789e7-a3a0-430a-8dbc-be4792a301fd"
      },
      "execution_count": 37,
      "outputs": [
        {
          "output_type": "stream",
          "name": "stdout",
          "text": [
            "Requirement already satisfied: transformers in /usr/local/lib/python3.10/dist-packages (4.34.0)\n",
            "Requirement already satisfied: filelock in /usr/local/lib/python3.10/dist-packages (from transformers) (3.12.4)\n",
            "Requirement already satisfied: huggingface-hub<1.0,>=0.16.4 in /usr/local/lib/python3.10/dist-packages (from transformers) (0.17.3)\n",
            "Requirement already satisfied: numpy>=1.17 in /usr/local/lib/python3.10/dist-packages (from transformers) (1.23.5)\n",
            "Requirement already satisfied: packaging>=20.0 in /usr/local/lib/python3.10/dist-packages (from transformers) (23.2)\n",
            "Requirement already satisfied: pyyaml>=5.1 in /usr/local/lib/python3.10/dist-packages (from transformers) (6.0.1)\n",
            "Requirement already satisfied: regex!=2019.12.17 in /usr/local/lib/python3.10/dist-packages (from transformers) (2023.6.3)\n",
            "Requirement already satisfied: requests in /usr/local/lib/python3.10/dist-packages (from transformers) (2.31.0)\n",
            "Requirement already satisfied: tokenizers<0.15,>=0.14 in /usr/local/lib/python3.10/dist-packages (from transformers) (0.14.1)\n",
            "Requirement already satisfied: safetensors>=0.3.1 in /usr/local/lib/python3.10/dist-packages (from transformers) (0.4.0)\n",
            "Requirement already satisfied: tqdm>=4.27 in /usr/local/lib/python3.10/dist-packages (from transformers) (4.66.1)\n",
            "Requirement already satisfied: fsspec in /usr/local/lib/python3.10/dist-packages (from huggingface-hub<1.0,>=0.16.4->transformers) (2023.6.0)\n",
            "Requirement already satisfied: typing-extensions>=3.7.4.3 in /usr/local/lib/python3.10/dist-packages (from huggingface-hub<1.0,>=0.16.4->transformers) (4.5.0)\n",
            "Requirement already satisfied: charset-normalizer<4,>=2 in /usr/local/lib/python3.10/dist-packages (from requests->transformers) (3.3.0)\n",
            "Requirement already satisfied: idna<4,>=2.5 in /usr/local/lib/python3.10/dist-packages (from requests->transformers) (2.10)\n",
            "Requirement already satisfied: urllib3<3,>=1.21.1 in /usr/local/lib/python3.10/dist-packages (from requests->transformers) (2.0.6)\n",
            "Requirement already satisfied: certifi>=2017.4.17 in /usr/local/lib/python3.10/dist-packages (from requests->transformers) (2023.7.22)\n"
          ]
        }
      ]
    },
    {
      "cell_type": "code",
      "source": [
        "# LLM 모델 불러오기\n",
        "from transformers import pipeline\n",
        "pipe = pipeline(\"translation\", model=\"KETI-AIR-Downstream/long-ke-t5-base-translation-aihub-bidirection\")\n",
        "### 이 모델이 어디서 다운 받았는지 - https://huggingface.co/KETI-AIR-Downstream (en2ko 도 존재)"
      ],
      "metadata": {
        "id": "-J0zVRggrGgU"
      },
      "execution_count": 38,
      "outputs": []
    },
    {
      "cell_type": "code",
      "source": [
        "#번역 시험\n",
        "txt = '이번 세션은 LLM모델을 사용하여 엑셀 자동 번역기를 만들어 보겠습니다.'\n",
        "pipe(\"translate_ko2en: \" + txt, max_length=40)"
      ],
      "metadata": {
        "id": "zCHqv8DnrMmG",
        "colab": {
          "base_uri": "https://localhost:8080/"
        },
        "outputId": "0a06346c-896d-4d12-8ebf-5f3aefbc72dc"
      },
      "execution_count": 39,
      "outputs": [
        {
          "output_type": "execute_result",
          "data": {
            "text/plain": [
              "[{'translation_text': 'In this session, we will use the LLM model to create an Excel automatic translator.'}]"
            ]
          },
          "metadata": {},
          "execution_count": 39
        }
      ]
    },
    {
      "cell_type": "code",
      "source": [
        "type(pipe(\"translate_ko2en: \" + txt, max_length=40))"
      ],
      "metadata": {
        "colab": {
          "base_uri": "https://localhost:8080/"
        },
        "id": "6ka4NfiY_K8N",
        "outputId": "826fc82a-aa39-44b1-fa52-0a7767c0d7a1"
      },
      "execution_count": 40,
      "outputs": [
        {
          "output_type": "execute_result",
          "data": {
            "text/plain": [
              "list"
            ]
          },
          "metadata": {},
          "execution_count": 40
        }
      ]
    },
    {
      "cell_type": "code",
      "source": [
        "#list 내부에 dictionary 형태로 출력됩니다. 번역 결과만 가져오기 위해 아래 함수를 정의합니다.\n",
        "\n",
        "def translate(text, maxl=40):\n",
        "  trans = pipe(\"translate_ko2en: \" + text, max_length=maxl)[0][\"translation_text\"]\n",
        "  return trans"
      ],
      "metadata": {
        "id": "x5DvOqjv_S_a"
      },
      "execution_count": 41,
      "outputs": []
    },
    {
      "cell_type": "code",
      "source": [
        "# !pip install openpyxl\n",
        "# !sudo apt-get install python3-tk  # 왜 Sudo???"
      ],
      "metadata": {
        "colab": {
          "base_uri": "https://localhost:8080/"
        },
        "id": "D0AQu63x_Xkb",
        "outputId": "fc2d66d6-a18f-452e-ef60-6f78e310b8bd"
      },
      "execution_count": 42,
      "outputs": [
        {
          "output_type": "stream",
          "name": "stdout",
          "text": [
            "Requirement already satisfied: openpyxl in /usr/local/lib/python3.10/dist-packages (3.1.2)\n",
            "Requirement already satisfied: et-xmlfile in /usr/local/lib/python3.10/dist-packages (from openpyxl) (1.1.0)\n",
            "Reading package lists... Done\n",
            "Building dependency tree... Done\n",
            "Reading state information... Done\n",
            "python3-tk is already the newest version (3.10.8-1~22.04).\n",
            "0 upgraded, 0 newly installed, 0 to remove and 18 not upgraded.\n"
          ]
        }
      ]
    },
    {
      "cell_type": "code",
      "source": [
        "from openpyxl import load_workbook, Workbook\n",
        "import datetime\n",
        "\n",
        "#번역할 파일업로드 후, 선택합니다\n",
        "files = './drive/MyDrive/220914_conferenceDeadline_v2.xlsx'\n",
        "load_wb = load_workbook(files, data_only=True)\n",
        "ws = load_wb.active\n",
        "result_wb = Workbook()\n",
        "result_ws = result_wb.active"
      ],
      "metadata": {
        "id": "4Z2_btsd_eEn"
      },
      "execution_count": 44,
      "outputs": []
    },
    {
      "cell_type": "code",
      "source": [
        "#엑셀 파일의 최대 행과 열을 조회합니다.\n",
        "row = ws.max_row\n",
        "col = ws.max_column\n",
        "print('행 :',row, ', 열 :',col)"
      ],
      "metadata": {
        "id": "zVdp6xWJ_wKL",
        "colab": {
          "base_uri": "https://localhost:8080/"
        },
        "outputId": "0bae98e8-0252-406b-d098-95d0c8853179"
      },
      "execution_count": 45,
      "outputs": [
        {
          "output_type": "stream",
          "name": "stdout",
          "text": [
            "행 : 30 , 열 : 6\n"
          ]
        }
      ]
    },
    {
      "cell_type": "code",
      "source": [
        "# 각 셀의 내용을 번역기에 넣어주어야 합니다.\n",
        "for j in range(col):\n",
        "  for i in range(row):\n",
        "    string = ws.cell(i+1, j+1).value   # 해당 셀의 내용을 읽어옵니다.\n",
        "    if type(string) == str:   # 데이터 타입이 문자인 것만 번역합니다.\n",
        "      result = translate(string)\n",
        "      result_ws.cell(i+1, j+1).value = result\n",
        "      print(string,' --> ', result)\n",
        "    else:   # 데이터 타입이 문자가 아니라면 번역하지 않습니다.\n",
        "      result_ws.cell(i+1, j+1).value = string\n",
        "      print(string, ' not changed')\n",
        "    today = datetime.datetime.now()\n",
        "    today_md = today.strftime(\"%y%m%d\") + '_' + today.strftime(\"%H%M\") + \"_translated\"\n",
        "\n",
        "save_dir = '/content/' + today_md + '.xlsx'\n",
        "result_wb.save(save_dir)"
      ],
      "metadata": {
        "colab": {
          "base_uri": "https://localhost:8080/"
        },
        "id": "glhiiaokE17k",
        "outputId": "0cb157b6-d0b7-4dc9-8c28-3ef8234205f3"
      },
      "execution_count": 46,
      "outputs": [
        {
          "output_type": "stream",
          "name": "stdout",
          "text": [
            "약칭  -->  Abbreviated\n",
            "CVPR  -->  CVPR\n",
            "ICCV  -->  ICCV\n",
            "SIGMOD  -->  SIGMOD\n",
            "ICDE  -->  ICDE\n",
            "ICDM  -->  ICDM\n",
            "ICASSP  -->  ICASSP\n",
            "KSC  -->  KSC\n",
            "ICLR  -->  ICLR\n",
            "None  not changed\n",
            "None  not changed\n",
            "None  not changed\n",
            "None  not changed\n",
            "None  not changed\n",
            "None  not changed\n",
            "None  not changed\n",
            "None  not changed\n",
            "None  not changed\n",
            "None  not changed\n",
            "None  not changed\n",
            "None  not changed\n",
            "None  not changed\n",
            "None  not changed\n",
            "None  not changed\n",
            "None  not changed\n",
            "None  not changed\n",
            "None  not changed\n",
            "기타 일정  -->  Other schedules\n",
            "None  not changed\n",
            "None  not changed\n",
            "학술대회명  -->  The name of the conference\n",
            "Conference on Computer Vision and Pattern Recognition  -->  Computer vision and pattern recognition conference\n",
            "International Conference on Computer Vision  -->  International Conference on Computer Vision\n",
            "International Conference on Management of Data  -->  International Conference on Data Management\n",
            "IEEE International Conference on Data Engineering  -->  IEEE International Conference on Data Engineering\n",
            "IEEE International Conference on Data Mining  -->  IEEE International Conference on Data Mining\n",
            "IEEE International Conference on Acoustics, Speech, and Signal Processing  -->  IEEE International Conference on Acoustics, Speech and Signal Processing\n",
            "정보과학회 (동계)  -->  The Information Science Association (Easter)\n",
            "International Conference on Learning Representations  -->  International Conference on Learning Representations\n",
            "None  not changed\n",
            "None  not changed\n",
            "None  not changed\n",
            "None  not changed\n",
            "None  not changed\n",
            "None  not changed\n",
            "None  not changed\n",
            "None  not changed\n",
            "None  not changed\n",
            "None  not changed\n",
            "None  not changed\n",
            "None  not changed\n",
            "None  not changed\n",
            "None  not changed\n",
            "None  not changed\n",
            "None  not changed\n",
            "None  not changed\n",
            "None  not changed\n",
            "HAIS, SOCO, CISIS, IDEAL  -->  HAIS, SOCO, CISIS, IDEAL\n",
            "저널 Special issues  -->  Journal Special Issues\n",
            "KCC, KSC  -->  KCC, KSC\n",
            "BK인정IF  -->  BK recognitionIF\n",
            "4  not changed\n",
            "4  not changed\n",
            "4  not changed\n",
            "3  not changed\n",
            "3  not changed\n",
            "기타  -->  The guitar\n",
            "기타  -->  The guitar\n",
            "기타  -->  The guitar\n",
            "None  not changed\n",
            "None  not changed\n",
            "None  not changed\n",
            "None  not changed\n",
            "None  not changed\n",
            "None  not changed\n",
            "None  not changed\n",
            "None  not changed\n",
            "None  not changed\n",
            "None  not changed\n",
            "None  not changed\n",
            "None  not changed\n",
            "None  not changed\n",
            "None  not changed\n",
            "None  not changed\n",
            "None  not changed\n",
            "None  not changed\n",
            "None  not changed\n",
            "HAIS, SOCO, CISIS 4-5월, IDEAL 7월  -->  HAIS, SOCO, CISIS April-May, IDEAL July\n",
            "연구분야 별 상시확인 필  -->  Feel free to check by research field\n",
            "연례행사, 맡은 과제 item 별로 1건씩 정리되도록  -->  To organize one case for each annual event and task item.\n",
            "제출 마감일  -->  The deadline for submission\n",
            "2022-11-11 00:00:00  not changed\n",
            "2023-03-08 00:00:00  not changed\n",
            "2022-10-15 00:00:00  not changed\n",
            "2022-10-08 00:00:00  not changed\n",
            "2023-01-15 00:00:00  not changed\n",
            "2022-10-19 00:00:00  not changed\n",
            "2022-10-14 00:00:00  not changed\n",
            "2022-09-28 00:00:00  not changed\n",
            "None  not changed\n",
            "None  not changed\n",
            "None  not changed\n",
            "None  not changed\n",
            "None  not changed\n",
            "None  not changed\n",
            "None  not changed\n",
            "None  not changed\n",
            "None  not changed\n",
            "None  not changed\n",
            "None  not changed\n",
            "None  not changed\n",
            "None  not changed\n",
            "None  not changed\n",
            "None  not changed\n",
            "None  not changed\n",
            "None  not changed\n",
            "None  not changed\n",
            "None  not changed\n",
            "None  not changed\n",
            "None  not changed\n",
            "비고  -->  Rain\n",
            "Vancouver, Canada  -->  Vancouver, Canada\n",
            "Paris, France  -->  Paris, France\n",
            "Seattle, Wa, USA  -->  시애틀, Wa, USA\n",
            "Anaheim, California, USA  -->  Agonyang, California, USA\n",
            "New York, USA  -->  New York, USA\n",
            "Greece  -->  Greece\n",
            "Korea  -->  Korea\n",
            "Kigali Rwanda  -->  Kigali Rwanda\n",
            "None  not changed\n",
            "None  not changed\n",
            "None  not changed\n",
            "None  not changed\n",
            "None  not changed\n",
            "None  not changed\n",
            "None  not changed\n",
            "None  not changed\n",
            "None  not changed\n",
            "None  not changed\n",
            "None  not changed\n",
            "None  not changed\n",
            "None  not changed\n",
            "None  not changed\n",
            "None  not changed\n",
            "None  not changed\n",
            "None  not changed\n",
            "None  not changed\n",
            "None  not changed\n",
            "None  not changed\n",
            "None  not changed\n",
            "기타사항  -->  Other things\n",
            "2023  not changed\n",
            "2023  not changed\n",
            "2023, cycle C  -->  2023, cycle C\n",
            "2023, Third round  -->  2023, 3rd round\n",
            "2023  not changed\n",
            "2023, 유명세에 비해 acceptance rate 40%육박  -->  2023, 40% acceptance rate compared to popularity.\n",
            "세부일정 미정  -->  The detailed schedule is not available\n",
            "2023, 초록마감  -->  2023, green finish\n",
            "None  not changed\n",
            "None  not changed\n",
            "None  not changed\n",
            "None  not changed\n",
            "None  not changed\n",
            "None  not changed\n",
            "None  not changed\n",
            "None  not changed\n",
            "None  not changed\n",
            "None  not changed\n",
            "None  not changed\n",
            "None  not changed\n",
            "None  not changed\n",
            "None  not changed\n",
            "None  not changed\n",
            "None  not changed\n",
            "None  not changed\n",
            "None  not changed\n",
            "None  not changed\n",
            "None  not changed\n",
            "None  not changed\n"
          ]
        }
      ]
    },
    {
      "cell_type": "code",
      "source": [
        "## 파일다운로드 하는법 : https://lapina.tistory.com/140\n",
        "# https://github.com/wkentaro/gdown"
      ],
      "metadata": {
        "id": "IzvfkhH1GWI0"
      },
      "execution_count": null,
      "outputs": []
    }
  ]
}